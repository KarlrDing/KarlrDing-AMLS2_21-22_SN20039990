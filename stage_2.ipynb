{
 "cells": [
  {
   "cell_type": "code",
   "execution_count": 1,
   "metadata": {},
   "outputs": [
    {
     "name": "stdout",
     "output_type": "stream",
     "text": [
      "[name: \"/device:CPU:0\"\n",
      "device_type: \"CPU\"\n",
      "memory_limit: 268435456\n",
      "locality {\n",
      "}\n",
      "incarnation: 6664647903207732856\n",
      "xla_global_id: -1\n",
      ", name: \"/device:GPU:0\"\n",
      "device_type: \"GPU\"\n",
      "memory_limit: 3667263488\n",
      "locality {\n",
      "  bus_id: 1\n",
      "  links {\n",
      "  }\n",
      "}\n",
      "incarnation: 17868775312252821248\n",
      "physical_device_desc: \"device: 0, name: NVIDIA GeForce RTX 3060 Laptop GPU, pci bus id: 0000:01:00.0, compute capability: 8.6\"\n",
      "xla_global_id: 416903419\n",
      "]\n"
     ]
    }
   ],
   "source": [
    "#check hardware\n",
    "from tensorflow.python.client import device_lib\n",
    "print(device_lib.list_local_devices())"
   ]
  },
  {
   "cell_type": "code",
   "execution_count": 2,
   "metadata": {},
   "outputs": [
    {
     "name": "stderr",
     "output_type": "stream",
     "text": [
      "D:\\Anaconda3\\envs\\aml2gpu\\lib\\site-packages\\tqdm\\auto.py:22: TqdmWarning: IProgress not found. Please update jupyter and ipywidgets. See https://ipywidgets.readthedocs.io/en/stable/user_install.html\n",
      "  from .autonotebook import tqdm as notebook_tqdm\n"
     ]
    }
   ],
   "source": [
    "#import libraries\n",
    "import pandas as pd\n",
    "from datasets import Dataset\n",
    "import seaborn as sns\n",
    "import matplotlib.pyplot as plt"
   ]
  },
  {
   "cell_type": "code",
   "execution_count": 3,
   "metadata": {},
   "outputs": [],
   "source": [
    "#file path\n",
    "path_img = './Stage_II/img'\n",
    "path_dat = './dataset'\n",
    "path_fil = '/clean_extended_train.csv'\n",
    "#parameters\n",
    "LEN_CONS = 60"
   ]
  },
  {
   "cell_type": "code",
   "execution_count": 4,
   "metadata": {},
   "outputs": [
    {
     "name": "stdout",
     "output_type": "stream",
     "text": [
      "1536627\n",
      "['review' 'rating']\n",
      "[5 4 1 3 2]\n"
     ]
    }
   ],
   "source": [
    "raw_data = pd.read_csv(path_dat + path_fil)\n",
    "#drop duplicate review\n",
    "raw_data.drop_duplicates(subset = 'review', inplace = True)\n",
    "#print dataset basic information\n",
    "print(raw_data.shape[0])\n",
    "print(raw_data.columns.values)\n",
    "print(raw_data['rating'].unique())"
   ]
  },
  {
   "cell_type": "code",
   "execution_count": 5,
   "metadata": {},
   "outputs": [
    {
     "data": {
      "text/plain": [
       "4    426358\n",
       "3     38501\n",
       "2     25677\n",
       "0     14783\n",
       "1     11097\n",
       "Name: rating, dtype: int64"
      ]
     },
     "execution_count": 5,
     "metadata": {},
     "output_type": "execute_result"
    }
   ],
   "source": [
    "task2_data = raw_data.copy()\n",
    "#follow the BERT input label format\n",
    "task2_data['rating'] = task2_data['rating'] - 1\n",
    "#clear empty value\n",
    "complete_data = task2_data.dropna().reindex()\n",
    "#select data whose length is below LEN_CONS\n",
    "mask = (complete_data['review'].str.len() <= LEN_CONS)\n",
    "mask_data = complete_data.loc[mask]\n",
    "#show rating distribution\n",
    "mask_data['rating'].value_counts()"
   ]
  },
  {
   "cell_type": "code",
   "execution_count": 6,
   "metadata": {},
   "outputs": [
    {
     "data": {
      "image/png": "[encoded data removed]",
      "text/plain": [
       "<Figure size 273.6x187.2 with 1 Axes>"
      ]
     },
     "metadata": {
      "needs_background": "light"
     },
     "output_type": "display_data"
    }
   ],
   "source": [
    "#distribution plot of samples\n",
    "fig,ax = plt.subplots(figsize = (3.8,2.6))\n",
    "plt.rcParams['font.size'] = 9.7\n",
    "\n",
    "ax.set_xlabel(\"Sentiment tendency\")\n",
    "ax.set_ylabel(\"Numbers of reviews\")\n",
    "\n",
    "ax.set_xticks([0,1])\n",
    "ax.set_xticks([0,1])\n",
    "ax.set_xticklabels(['Negative','Positive'])\n",
    "sns.histplot(mask_data['rating'], kde=True, ax = ax, linewidth = 1.6)\n",
    "plt.savefig(path_img+'/'+'distribution'+'.png')\n",
    "plt.savefig(path_img+'/'+'distribution'+'.svg')"
   ]
  },
  {
   "cell_type": "code",
   "execution_count": 7,
   "metadata": {},
   "outputs": [],
   "source": [
    "#form a smaller dataset\n",
    "#original ratio\n",
    "data_0 = mask_data.loc[mask_data['rating'] == 0].head(16400)\n",
    "data_1 = mask_data.loc[mask_data['rating'] == 1].head(1600)\n",
    "data_2 = mask_data.loc[mask_data['rating'] == 2].head(1000)\n",
    "data_3 = mask_data.loc[mask_data['rating'] == 3].head(600)\n",
    "data_4 = mask_data.loc[mask_data['rating'] == 4].head(400)\n",
    "minor_data_ori = pd.concat([data_0, data_1, data_2, data_3, data_4])\n",
    "#balanced ratio\n",
    "data_0 = mask_data.loc[mask_data['rating'] == 0].head(4000)\n",
    "data_1 = mask_data.loc[mask_data['rating'] == 1].head(4000)\n",
    "data_2 = mask_data.loc[mask_data['rating'] == 2].head(4000)\n",
    "data_3 = mask_data.loc[mask_data['rating'] == 3].head(4000)\n",
    "data_4 = mask_data.loc[mask_data['rating'] == 4].head(4000)\n",
    "minor_data_bal = pd.concat([data_0, data_1, data_2, data_3, data_4])"
   ]
  },
  {
   "cell_type": "code",
   "execution_count": 8,
   "metadata": {},
   "outputs": [
    {
     "data": {
      "text/plain": [
       "count    18383.000000\n",
       "mean        36.856498\n",
       "std         14.106253\n",
       "min          1.000000\n",
       "25%         25.000000\n",
       "50%         37.000000\n",
       "75%         49.000000\n",
       "max         60.000000\n",
       "Name: review, dtype: object"
      ]
     },
     "execution_count": 8,
     "metadata": {},
     "output_type": "execute_result"
    }
   ],
   "source": [
    "#show distribution\n",
    "distribution = minor_data_ori['review'].str.len().astype(int)\n",
    "distribution.describe().apply(lambda x: format(x, 'f'))"
   ]
  },
  {
   "cell_type": "code",
   "execution_count": 9,
   "metadata": {},
   "outputs": [
    {
     "name": "stderr",
     "output_type": "stream",
     "text": [
      "D:\\Anaconda3\\envs\\aml2gpu\\lib\\site-packages\\seaborn\\_decorators.py:36: FutureWarning: Pass the following variable as a keyword arg: x. From version 0.12, the only valid positional argument will be `data`, and passing other arguments without an explicit keyword will result in an error or misinterpretation.\n",
      "  warnings.warn(\n"
     ]
    },
    {
     "data": {
      "image/png": "[encoded data removed]",
      "text/plain": [
       "<Figure size 273.6x187.2 with 1 Axes>"
      ]
     },
     "metadata": {
      "needs_background": "light"
     },
     "output_type": "display_data"
    }
   ],
   "source": [
    "#boxplot\n",
    "import seaborn as sns\n",
    "\n",
    "fig,ax = plt.subplots(figsize = (3.8,2.6))\n",
    "plt.rcParams['font.size'] = 9.7\n",
    "\n",
    "ax = sns.boxplot(distribution)\n",
    "plt.savefig(path_img+'/'+'dist_box_ori'+'.png')\n",
    "plt.savefig(path_img+'/'+'dist_box_ori'+'.svg')"
   ]
  },
  {
   "cell_type": "code",
   "execution_count": 10,
   "metadata": {},
   "outputs": [
    {
     "data": {
      "text/plain": [
       "count    20000.000000\n",
       "mean        38.290450\n",
       "std         14.274729\n",
       "min          1.000000\n",
       "25%         27.000000\n",
       "50%         39.000000\n",
       "75%         51.000000\n",
       "max         60.000000\n",
       "Name: review, dtype: object"
      ]
     },
     "execution_count": 10,
     "metadata": {},
     "output_type": "execute_result"
    }
   ],
   "source": [
    "#show distribution\n",
    "distribution = minor_data_bal['review'].str.len().astype(int)\n",
    "distribution.describe().apply(lambda x: format(x, 'f'))"
   ]
  },
  {
   "cell_type": "code",
   "execution_count": 11,
   "metadata": {},
   "outputs": [
    {
     "name": "stderr",
     "output_type": "stream",
     "text": [
      "D:\\Anaconda3\\envs\\aml2gpu\\lib\\site-packages\\seaborn\\_decorators.py:36: FutureWarning: Pass the following variable as a keyword arg: x. From version 0.12, the only valid positional argument will be `data`, and passing other arguments without an explicit keyword will result in an error or misinterpretation.\n",
      "  warnings.warn(\n"
     ]
    },
    {
     "data": {
      "image/png": "[encoded data removed]",
      "text/plain": [
       "<Figure size 273.6x187.2 with 1 Axes>"
      ]
     },
     "metadata": {
      "needs_background": "light"
     },
     "output_type": "display_data"
    }
   ],
   "source": [
    "#boxplot\n",
    "import seaborn as sns\n",
    "\n",
    "fig,ax = plt.subplots(figsize = (3.8,2.6))\n",
    "plt.rcParams['font.size'] = 9.7\n",
    "\n",
    "ax = sns.boxplot(distribution)\n",
    "plt.savefig(path_img+'/'+'dist_box_bal'+'.png')\n",
    "plt.savefig(path_img+'/'+'dist_box_bal'+'.svg')"
   ]
  },
  {
   "cell_type": "code",
   "execution_count": 12,
   "metadata": {},
   "outputs": [],
   "source": [
    "def model_initialization(MODEL = 'bert-base-uncased'):\n",
    "    #model import\n",
    "    import tensorflow as tf\n",
    "    from transformers import TFAutoModelForSequenceClassification\n",
    "    model = TFAutoModelForSequenceClassification.from_pretrained(MODEL, num_labels=5)\n",
    "    return model"
   ]
  },
  {
   "cell_type": "code",
   "execution_count": 13,
   "metadata": {},
   "outputs": [],
   "source": [
    "def model_train(model,model_name,tf_train_dataset,tf_validation_dataset,dataset_name,PARAMETERS):\n",
    "    import tensorflow as tf\n",
    "    from transformers import AdamWeightDecay\n",
    "    from transformers import WarmUp\n",
    "    #parameters\n",
    "    EPOCH       = PARAMETERS[0]#6\n",
    "    ILR         = PARAMETERS[1]#5e-5\n",
    "    D_S         = PARAMETERS[2]#600\n",
    "    D_R         = PARAMETERS[3]#0.9\n",
    "    W_S         = PARAMETERS[4]#200\n",
    "\n",
    "    #define callback function\n",
    "    train_los = []\n",
    "    train_acc = []\n",
    "\n",
    "    test_los = []\n",
    "    test_acc = []\n",
    "\n",
    "    class CustomCallback(tf.keras.callbacks.Callback):\n",
    "        def on_train_batch_end(self, batch, logs=None):\n",
    "            keys = list(logs.keys())\n",
    "            train_los.append(logs['loss'])\n",
    "            train_acc.append(logs['sparse_categorical_accuracy'])\n",
    "\n",
    "        def on_test_batch_end(self, batch, logs=None):\n",
    "            keys = list(logs.keys())\n",
    "            test_los.append(logs['loss'])\n",
    "            test_acc.append(logs['sparse_categorical_accuracy'])\n",
    "    \n",
    "    #training\n",
    "    #define scheduler with warmup\n",
    "    lr_schedule = tf.keras.optimizers.schedules.ExponentialDecay(\n",
    "        initial_learning_rate=ILR,\n",
    "        decay_steps=D_S,\n",
    "        decay_rate=D_R)\n",
    "    #warmup mechanism\n",
    "    scheduler = WarmUp(initial_learning_rate=ILR,warmup_steps=W_S,decay_schedule_fn=lr_schedule)\n",
    "    sch_callback = tf.keras.callbacks.LearningRateScheduler(scheduler)\n",
    "\n",
    "    #define adamW optimizer\n",
    "    AdamW = AdamWeightDecay(scheduler)#learning_rate=ILR)\n",
    "\n",
    "    model.compile(\n",
    "        optimizer=AdamW,#tf.keras.optimizers.Adam(learning_rate=5e-5),\n",
    "        loss=tf.keras.losses.SparseCategoricalCrossentropy(from_logits=True),\n",
    "        metrics=tf.metrics.SparseCategoricalAccuracy()\n",
    "    )\n",
    "    #callback\n",
    "    callbacks = [tf.keras.callbacks.TensorBoard(log_dir='callback',update_freq=100,histogram_freq=100),CustomCallback()]#,sch_callback]\n",
    "    #training\n",
    "    history = model.fit(tf_train_dataset, validation_data=tf_validation_dataset, epochs=EPOCH, callbacks = callbacks)\n",
    "    \n",
    "    #save acc and loss information\n",
    "    curve = [train_los,train_acc,test_los,test_acc]\n",
    "    #save model\n",
    "    #model.save_weights('./Stage_II/weight/'+model_name+dataset_name+'weights')\n",
    "    return history,curve"
   ]
  },
  {
   "cell_type": "code",
   "execution_count": 14,
   "metadata": {},
   "outputs": [],
   "source": [
    "#model training pipline\n",
    "def train_pipline(minor_data,dataset_name,model_name = 'bert-base-uncased'):\n",
    "    #train test dataset split\n",
    "    dataset_data = Dataset.from_pandas(minor_data)\n",
    "    dataset_split = dataset_data.train_test_split(test_size=0.2)\n",
    "\n",
    "    #parameters\n",
    "    dataset = dataset_split\n",
    "    MODEL = model_name\n",
    "\n",
    "    EPOCH       = 6\n",
    "    ILR         = 5e-5\n",
    "    D_S         = 600\n",
    "    D_R         = 0.9\n",
    "    W_S         = 200\n",
    "\n",
    "    PARAMETERS = [EPOCH,ILR,D_S,D_R,W_S]\n",
    "\n",
    "    #################################\n",
    "    #tokenization                   #\n",
    "    #################################\n",
    "    from transformers import AutoTokenizer\n",
    "    tokenizer = AutoTokenizer.from_pretrained(MODEL)\n",
    "\n",
    "    def tokenize_function(examples):\n",
    "        return tokenizer(examples['review'], padding=\"max_length\", max_length=64, truncation=True)\n",
    "    tokenized_datasets = dataset.map(tokenize_function, batched=True)\n",
    "    #################################\n",
    "    #train/test dataset conversion  #\n",
    "    #################################\n",
    "    train_dataset = tokenized_datasets[\"train\"].shuffle(seed=1)\n",
    "    eval_dataset = tokenized_datasets[\"test\"].shuffle(seed=1)\n",
    "\n",
    "    from transformers import DefaultDataCollator\n",
    "    data_collator = DefaultDataCollator(return_tensors=\"tf\")\n",
    "\n",
    "    tf_train_dataset = train_dataset.to_tf_dataset(\n",
    "        columns=[\"attention_mask\", \"input_ids\", \"token_type_ids\"],\n",
    "        label_cols=[\"rating\"],\n",
    "        shuffle=True,\n",
    "        collate_fn=data_collator,\n",
    "        batch_size=16,\n",
    "    )\n",
    "\n",
    "    tf_validation_dataset = eval_dataset.to_tf_dataset(\n",
    "        columns=[\"attention_mask\", \"input_ids\", \"token_type_ids\"],\n",
    "        label_cols=[\"rating\"],\n",
    "        shuffle=False,\n",
    "        collate_fn=data_collator,\n",
    "        batch_size=8,\n",
    "    )\n",
    "    #################################\n",
    "    #model init and training        #\n",
    "    #################################\n",
    "\n",
    "    #model initialization\n",
    "    model = model_initialization(MODEL=MODEL)\n",
    "    #model training\n",
    "    history,curve = model_train(model,MODEL,tf_train_dataset,tf_validation_dataset,dataset_name,PARAMETERS)\n",
    "    #check the accuracy curve\n",
    "    #print(history.params)\n",
    "    #print(history.history.keys())\n",
    "\n",
    "    return model,curve,tf_validation_dataset,eval_dataset"
   ]
  },
  {
   "cell_type": "code",
   "execution_count": 15,
   "metadata": {},
   "outputs": [],
   "source": [
    "#result analysis\n",
    "def result_analysis(model,tf_validation_dataset,eval_dataset,name):\n",
    "    from sklearn.metrics import classification_report\n",
    "    import pandas as pd\n",
    "    import numpy as np\n",
    "    #prediction based on trained model\n",
    "    predict = model.predict(tf_validation_dataset)\n",
    "\n",
    "    Y_test = eval_dataset['rating']\n",
    "    y_pred = np.argmax(predict.logits,axis = 1)\n",
    "    #precision recall f1 socre of each category\n",
    "    report = classification_report(Y_test, y_pred)\n",
    "    #open text file\n",
    "    text_file = open('./Stage_II/report/'+name+'.txt', \"w\")\n",
    "    #write string to file\n",
    "    text_file.write(report)\n",
    "    #close file\n",
    "    text_file.close()\n",
    "\n",
    "    #heatmap\n",
    "    from sklearn.metrics import confusion_matrix, ConfusionMatrixDisplay\n",
    "    cm = confusion_matrix(Y_test, y_pred)\n",
    "    disp = ConfusionMatrixDisplay(confusion_matrix=cm)\n",
    "\n",
    "    fig,ax = plt.subplots(figsize = (3.8,2.6))\n",
    "    plt.rcParams['font.size'] = 9.7\n",
    "\n",
    "    disp.plot(ax=ax)\n",
    "    plt.savefig(path_img+'/'+name+'_conmat'+'.png')\n",
    "    plt.savefig(path_img+'/'+name+'_conmat'+'.svg')\n",
    "    pass"
   ]
  },
  {
   "cell_type": "code",
   "execution_count": 16,
   "metadata": {},
   "outputs": [],
   "source": [
    "#draw curve\n",
    "def learn_curve(data,name):\n",
    "    fig,ax1 = plt.subplots(figsize = (3.8,2.6))\n",
    "    plt.rcParams['font.size'] = 9.7\n",
    "\n",
    "    loss1 = data[0]\n",
    "    acc1  = data[1]\n",
    "    loss2 = data[2]\n",
    "    acc2  = data[3]\n",
    "\n",
    "    ax1.set_xlabel(\"Learning Curve\")\n",
    "    ax1.set_ylabel(\"Loss\")\n",
    "\n",
    "    ax2 = ax1.twinx()\n",
    "    ax2.set_ylabel(\"Acc\")\n",
    "\n",
    "    ax1.plot(loss1, linewidth = 1.6)\n",
    "    ax1.plot(loss2, linewidth = 1.6)\n",
    "    ax2.plot(acc1 , linewidth = 1.6)\n",
    "    ax2.plot(acc2 , linewidth = 1.6)\n",
    "    plt.savefig(path_img+'/'+name+'_lecur'+'.png')\n",
    "    plt.savefig(path_img+'/'+name+'_lecur'+'.svg')\n",
    "    pass"
   ]
  },
  {
   "cell_type": "code",
   "execution_count": 17,
   "metadata": {},
   "outputs": [],
   "source": [
    "def model_dataset_choose(code):\n",
    "    if   code == 0:\n",
    "        #original ratio dataset using BERT\n",
    "        mod_ori_bert,cur_ori_bert,val__ori_bert,eva_ori_bert = train_pipline(minor_data_ori,'ori','bert-base-uncased')\n",
    "        result_analysis(mod_ori_bert,val__ori_bert,eva_ori_bert,'bert_ori')\n",
    "        learn_curve(cur_ori_bert,'ori'+'bert-base-uncased')\n",
    "    elif code == 1:\n",
    "        #balance ratio dataset using BERT\n",
    "        mod_bal_bert,cur_bal_bert,val__bal_bert,eva_bal_bert = train_pipline(minor_data_bal,'bal','bert-base-uncased')\n",
    "        result_analysis(mod_bal_bert,val__bal_bert,eva_bal_bert,'bert_bal')\n",
    "        learn_curve(cur_bal_bert,'bal'+'bert-base-uncased')\n",
    "    elif code == 2:\n",
    "        #original ratio dataset using RoBERTa\n",
    "        mod_ori_roberta,cur_ori_roberta,val__ori_roberta,eva_ori_roberta = train_pipline(minor_data_ori,'ori','roberta-base')\n",
    "        result_analysis(mod_ori_roberta,val__ori_roberta,eva_ori_roberta,'roberta_ori')\n",
    "        learn_curve(cur_ori_roberta,'ori'+'roberta-base')\n",
    "    elif code == 3:\n",
    "        #balance ratio dataset using RoBERTa\n",
    "        mod_bal_roberta,cur_bal_roberta,val__bal_roberta,eva_bal_roberta = train_pipline(minor_data_bal,'bal','roberta-base')\n",
    "        result_analysis(mod_bal_roberta,val__bal_roberta,eva_bal_roberta,'roberta_bal')\n",
    "        learn_curve(cur_bal_roberta,'bal'+'roberta-base')\n",
    "    pass"
   ]
  },
  {
   "cell_type": "code",
   "execution_count": 18,
   "metadata": {},
   "outputs": [
    {
     "name": "stderr",
     "output_type": "stream",
     "text": [
      "100%|██████████| 16/16 [00:01<00:00, 16.00ba/s]\n",
      "100%|██████████| 4/4 [00:00<00:00, 23.52ba/s]\n",
      "All model checkpoint layers were used when initializing TFRobertaForSequenceClassification.\n",
      "\n",
      "Some layers of TFRobertaForSequenceClassification were not initialized from the model checkpoint at roberta-base and are newly initialized: ['classifier']\n",
      "You should probably TRAIN this model on a down-stream task to be able to use it for predictions and inference.\n"
     ]
    },
    {
     "name": "stdout",
     "output_type": "stream",
     "text": [
      "Epoch 1/6\n",
      "   6/1000 [..............................] - ETA: 3:20 - loss: 1.6121 - sparse_categorical_accuracy: 0.1771WARNING:tensorflow:Callback method `on_train_batch_end` is slow compared to the batch time (batch time: 0.1202s vs `on_train_batch_end` time: 0.1319s). Check your callbacks.\n",
      "1000/1000 [==============================] - 272s 255ms/step - loss: 1.3094 - sparse_categorical_accuracy: 0.4089 - val_loss: 1.1833 - val_sparse_categorical_accuracy: 0.4683\n",
      "Epoch 2/6\n",
      "1000/1000 [==============================] - 253s 253ms/step - loss: 1.1525 - sparse_categorical_accuracy: 0.4893 - val_loss: 1.1432 - val_sparse_categorical_accuracy: 0.4920\n",
      "Epoch 3/6\n",
      "1000/1000 [==============================] - 259s 259ms/step - loss: 1.0577 - sparse_categorical_accuracy: 0.5333 - val_loss: 1.1962 - val_sparse_categorical_accuracy: 0.5008\n",
      "Epoch 4/6\n",
      "1000/1000 [==============================] - 271s 271ms/step - loss: 0.9688 - sparse_categorical_accuracy: 0.5796 - val_loss: 1.2179 - val_sparse_categorical_accuracy: 0.5038\n",
      "Epoch 5/6\n",
      "1000/1000 [==============================] - 259s 259ms/step - loss: 0.8494 - sparse_categorical_accuracy: 0.6405 - val_loss: 1.3060 - val_sparse_categorical_accuracy: 0.4930\n",
      "Epoch 6/6\n",
      "1000/1000 [==============================] - 261s 261ms/step - loss: 0.7310 - sparse_categorical_accuracy: 0.7037 - val_loss: 1.4644 - val_sparse_categorical_accuracy: 0.4905\n"
     ]
    },
    {
     "data": {
      "image/png": "[encoded data removed]",
      "text/plain": [
       "<Figure size 273.6x187.2 with 2 Axes>"
      ]
     },
     "metadata": {
      "needs_background": "light"
     },
     "output_type": "display_data"
    },
    {
     "data": {
      "image/png": "[encoded data removed]",
      "text/plain": [
       "<Figure size 273.6x187.2 with 2 Axes>"
      ]
     },
     "metadata": {
      "needs_background": "light"
     },
     "output_type": "display_data"
    }
   ],
   "source": [
    "model_dataset_choose(3) "
   ]
  }
 ],
 "metadata": {
  "interpreter": {
   "hash": "49fadfafc8aac54233149f8a39cdf00e6af4205f2a60bc7b5979a2ecf79561d8"
  },
  "kernelspec": {
   "display_name": "Python 3.8.13 ('aml2gpu')",
   "language": "python",
   "name": "python3"
  },
  "language_info": {
   "codemirror_mode": {
    "name": "ipython",
    "version": 3
   },
   "file_extension": ".py",
   "mimetype": "text/x-python",
   "name": "python",
   "nbconvert_exporter": "python",
   "pygments_lexer": "ipython3",
   "version": "3.8.13"
  },
  "orig_nbformat": 4
 },
 "nbformat": 4,
 "nbformat_minor": 2
}
